{
 "cells": [
  {
   "cell_type": "code",
   "execution_count": null,
   "metadata": {},
   "outputs": [],
   "source": [
    "import pandas as pd\n",
    "import numpy as np\n",
    "import zipfile\n",
    "import datetime\n",
    "import matplotlib.pyplot as plt\n",
    "\n",
    "from pathlib import Path\n",
    "from sklearn.model_selection import train_test_split\n",
    "from sklearn.preprocessing import OneHotEncoder, StandardScaler\n",
    "from sklearn.pipeline import Pipeline\n",
    "from sklearn.compose import ColumnTransformer\n",
    "\n",
    "from sklearn.ensemble import RandomForestRegressor\n",
    "\n",
    "from sklearn.metrics import mean_squared_log_error, mean_squared_error\n",
    "from sklearn.model_selection import cross_val_score, GridSearchCV\n",
    "\n",
    "import xgboost"
   ]
  },
  {
   "cell_type": "code",
   "execution_count": null,
   "metadata": {},
   "outputs": [],
   "source": [
    "REP_DATA = Path('data')\n",
    "REP_DATA.mkdir(parents=True, exist_ok=True)\n",
    "\n",
    "with zipfile.ZipFile('nyc-taxi-trip-duration.zip', 'r') as zip_f:\n",
    "    zip_f.extractall(REP_DATA)\n",
    "    for f in REP_DATA.glob('*.zip'):\n",
    "        with zipfile.ZipFile(f, 'r') as sub_zip_f:\n",
    "            sub_zip_f.extractall(REP_DATA)"
   ]
  },
  {
   "cell_type": "code",
   "execution_count": null,
   "metadata": {},
   "outputs": [],
   "source": [
    "df = pd.read_csv(\n",
    "    REP_DATA / 'train.csv',\n",
    "    # index_col='id',\n",
    "    # parse_dates=['pickup_datetime', 'dropoff_datetime'],\n",
    "    parse_dates=['pickup_datetime'],\n",
    "    dtype={'store_and_fwd_flag':'category'}\n",
    ")\n",
    "\n",
    "df = df.drop(columns=['dropoff_datetime'])  # Not in test.csv\n",
    "\n",
    "# df = df.head(10000)"
   ]
  },
  {
   "cell_type": "code",
   "execution_count": null,
   "metadata": {},
   "outputs": [],
   "source": [
    "LFV = 'trip_duration'  # Looking for value"
   ]
  },
  {
   "cell_type": "code",
   "execution_count": null,
   "metadata": {},
   "outputs": [],
   "source": [
    "df.info()"
   ]
  },
  {
   "cell_type": "code",
   "execution_count": null,
   "metadata": {},
   "outputs": [],
   "source": [
    "df.head()"
   ]
  },
  {
   "cell_type": "code",
   "execution_count": null,
   "metadata": {},
   "outputs": [],
   "source": [
    "def Haversine(lat1, lon1, lat2, lon2, **kwarg):\n",
    "    \"\"\"\n",
    "    source : https://stackoverflow.com/questions/19412462/getting-distance-between-two-points-based-on-latitude-longitude\n",
    "    'haversine' calculate the great-circle distance between two points\n",
    "    shortest distance over the earth’s surface – giving an ‘as-the-crow-flies’ distance between the points \n",
    "    (ignoring any hills they fly over, of course!).\n",
    "    Haversine\n",
    "    formula:    a = sin²(Δφ/2) + cos φ1 ⋅ cos φ2 ⋅ sin²(Δλ/2)\n",
    "    c = 2 ⋅ atan2( √a, √(1−a) )\n",
    "    d = R ⋅ c\n",
    "    where   φ is latitude, λ is longitude, R is earth’s radius (mean radius = 6,371km);\n",
    "    note that angles need to be in radians to pass to trig functions!\n",
    "    \"\"\"\n",
    "    R = 6371.0088\n",
    "    lat1, lon1, lat2, lon2 = map(np.radians, [lat1, lon1, lat2, lon2])\n",
    "\n",
    "    dlat = lat2 - lat1\n",
    "    dlon = lon2 - lon1\n",
    "    a = np.sin(dlat/2) ** 2 + np.cos(lat1) * np.cos(lat2) * np.sin(dlon/2) ** 2\n",
    "    c = 2 * np.arctan2(a ** 0.5, (1-a) ** 0.5)\n",
    "    d = R * c\n",
    "    \n",
    "    return d"
   ]
  },
  {
   "cell_type": "code",
   "execution_count": null,
   "metadata": {},
   "outputs": [],
   "source": [
    "def df_transform(df):\n",
    "\n",
    "    df['distance'] = df.apply(lambda col: Haversine(col['pickup_latitude'], col['pickup_longitude'], col['dropoff_latitude'], col['dropoff_longitude']), axis=1)\n",
    "    df['pickup_day_of_week'] = df['pickup_datetime'].dt.day_name().astype('category')\n",
    "    df['pickup_month'] = df['pickup_datetime'].dt.month_name().astype('category')\n",
    "    df['pickup_hour'] = df['pickup_datetime'].dt.hour.astype('category')\n",
    "    df['pickup_timestamp'] = df['pickup_datetime'].dt.hour + df['pickup_datetime'].dt.minute / 12\n",
    "    # df['vendor_id'] = df['vendor_id'].astype('category')\n",
    "    df = df.drop(columns=['id', 'vendor_id', 'pickup_datetime'])\n",
    "    \n",
    "    return df"
   ]
  },
  {
   "cell_type": "code",
   "execution_count": null,
   "metadata": {},
   "outputs": [],
   "source": [
    "df = df_transform(df)"
   ]
  },
  {
   "cell_type": "code",
   "execution_count": null,
   "metadata": {},
   "outputs": [],
   "source": [
    "df.head()"
   ]
  },
  {
   "cell_type": "code",
   "execution_count": null,
   "metadata": {},
   "outputs": [],
   "source": [
    "train_set, test_set = train_test_split(\n",
    "    df,\n",
    "    test_size=.2,\n",
    "    random_state=952\n",
    ")"
   ]
  },
  {
   "cell_type": "code",
   "execution_count": null,
   "metadata": {},
   "outputs": [],
   "source": [
    "corr_matrix = df.corr()"
   ]
  },
  {
   "cell_type": "code",
   "execution_count": null,
   "metadata": {},
   "outputs": [],
   "source": [
    "corr_matrix[LFV].sort_values(ascending=False)"
   ]
  },
  {
   "cell_type": "code",
   "execution_count": null,
   "metadata": {},
   "outputs": [],
   "source": [
    "train_X = train_set.drop(columns=[LFV])\n",
    "train_y = train_set[LFV]"
   ]
  },
  {
   "cell_type": "markdown",
   "metadata": {},
   "source": [
    "## Numeric"
   ]
  },
  {
   "cell_type": "code",
   "execution_count": null,
   "metadata": {},
   "outputs": [],
   "source": [
    "train_X_num = list(train_X.select_dtypes('number').columns)"
   ]
  },
  {
   "cell_type": "code",
   "execution_count": null,
   "metadata": {},
   "outputs": [],
   "source": [
    "num_pipeline = Pipeline([\n",
    "    ('standardscaler', StandardScaler()),\n",
    "])"
   ]
  },
  {
   "cell_type": "markdown",
   "metadata": {},
   "source": [
    "## Text"
   ]
  },
  {
   "cell_type": "code",
   "execution_count": null,
   "metadata": {},
   "outputs": [],
   "source": [
    "train_X_cat = list(train_X.select_dtypes('category').columns)"
   ]
  },
  {
   "cell_type": "code",
   "execution_count": null,
   "metadata": {},
   "outputs": [],
   "source": [
    "cat_pipeline = Pipeline([\n",
    "    ('ohe', OneHotEncoder()),\n",
    "])"
   ]
  },
  {
   "cell_type": "code",
   "execution_count": null,
   "metadata": {},
   "outputs": [],
   "source": [
    "full_pipeline = ColumnTransformer([\n",
    "    ('num', num_pipeline, train_X_num),\n",
    "    ('cat', cat_pipeline, train_X_cat)\n",
    "])"
   ]
  },
  {
   "cell_type": "code",
   "execution_count": null,
   "metadata": {},
   "outputs": [],
   "source": [
    "train_X_prepared = full_pipeline.fit_transform(train_X)\n",
    "train_y_log = np.log1p(train_y)"
   ]
  },
  {
   "cell_type": "markdown",
   "metadata": {},
   "source": [
    "## Random forest"
   ]
  },
  {
   "cell_type": "code",
   "execution_count": null,
   "metadata": {},
   "outputs": [],
   "source": [
    "#forest_reg = RandomForestRegressor()\n",
    "#forest_reg.fit(train_X_prepared, train_y_log)"
   ]
  },
  {
   "cell_type": "markdown",
   "metadata": {},
   "source": [
    "## XGBoost"
   ]
  },
  {
   "cell_type": "code",
   "execution_count": null,
   "metadata": {},
   "outputs": [],
   "source": [
    "xgboost_reg = xgboost.XGBRegressor(eval_metric='rmse')\n",
    "xgboost_reg.fit(train_X_prepared, train_y_log)"
   ]
  },
  {
   "cell_type": "code",
   "execution_count": null,
   "metadata": {},
   "outputs": [],
   "source": [
    "xgboost_reg_scores = cross_val_score(\n",
    "    xgboost_reg,\n",
    "    train_X_prepared,\n",
    "    train_y_log,\n",
    "    #scoring='mean_squared_error',\n",
    "    # scoring='neg_mean_squared_error',\n",
    "    cv=5\n",
    ")"
   ]
  },
  {
   "cell_type": "code",
   "execution_count": null,
   "metadata": {},
   "outputs": [],
   "source": [
    "param_grid = [\n",
    "    {\n",
    "        'colsample_bytree': [.4],\n",
    "        'gamma': [0],\n",
    "        'learning_rate': [.07],  # np.arange(.04, .09, .01),\n",
    "        'max_depth': [3],\n",
    "        'min_child_weight': [1.5],  # np.arange(1, 2, .1),\n",
    "        'n_estimators': [50, 100],\n",
    "        'reg_alpha': [.75],  # np.arange(.6, .8, .1),\n",
    "        'reg_lambda': [.45],  # np.arange(.2, .6, .1),\n",
    "        'subsample': [.6]  # np.arange(.4, .6, .1)\n",
    "    },\n",
    "]\n",
    "\n",
    "\n",
    "grid_search = GridSearchCV(\n",
    "    xgboost_reg,\n",
    "    param_grid,\n",
    "    cv=5,\n",
    "    return_train_score=True\n",
    ")\n",
    "\n",
    "grid_search.fit(train_X_prepared, train_y_log)"
   ]
  },
  {
   "cell_type": "code",
   "execution_count": null,
   "metadata": {},
   "outputs": [],
   "source": [
    "grid_search.best_params_"
   ]
  },
  {
   "cell_type": "code",
   "execution_count": null,
   "metadata": {},
   "outputs": [],
   "source": [
    "grid_search.best_estimator_"
   ]
  },
  {
   "cell_type": "code",
   "execution_count": null,
   "metadata": {},
   "outputs": [],
   "source": [
    "xgb_model = grid_search.best_estimator_\n",
    "\n",
    "xgb_model.fit(\n",
    "    train_X_prepared,\n",
    "    train_y_log\n",
    ")"
   ]
  },
  {
   "cell_type": "code",
   "execution_count": null,
   "metadata": {},
   "outputs": [],
   "source": [
    "xgboost_reg_scores"
   ]
  },
  {
   "cell_type": "code",
   "execution_count": null,
   "metadata": {},
   "outputs": [],
   "source": [
    "df_test_raw = pd.read_csv(\n",
    "    REP_DATA / 'test.csv',\n",
    "    # index_col='id',\n",
    "    parse_dates=['pickup_datetime'],\n",
    "    dtype={'store_and_fwd_flag':'category'}\n",
    ")\n",
    "\n",
    "df_test = df_transform(df_test_raw)\n",
    "df_test.head()"
   ]
  },
  {
   "cell_type": "code",
   "execution_count": null,
   "metadata": {},
   "outputs": [],
   "source": [
    "X_test_prepared = full_pipeline.transform(df_test)\n",
    "X_test_predictions_log = xgb_model.predict(X_test_prepared)\n",
    "\n",
    "X_test_predictions = np.expm1(X_test_predictions_log)\n",
    "\n",
    "xgb_model_result = pd.concat([df_test_raw, pd.DataFrame(X_test_predictions, columns=[LFV])], axis=1)\n",
    "xgb_model_result[['id', LFV]].to_csv('submission.csv', index=False)"
   ]
  }
 ],
 "metadata": {
  "kernelspec": {
   "display_name": "Python 3",
   "language": "python",
   "name": "python3"
  },
  "language_info": {
   "codemirror_mode": {
    "name": "ipython",
    "version": 3
   },
   "file_extension": ".py",
   "mimetype": "text/x-python",
   "name": "python",
   "nbconvert_exporter": "python",
   "pygments_lexer": "ipython3",
   "version": "3.7.3"
  }
 },
 "nbformat": 4,
 "nbformat_minor": 2
}
